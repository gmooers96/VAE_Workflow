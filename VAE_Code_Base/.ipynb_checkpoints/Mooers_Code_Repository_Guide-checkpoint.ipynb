{
 "cells": [
  {
   "cell_type": "markdown",
   "metadata": {},
   "source": [
    "# Model set up and installation"
   ]
  },
  {
   "cell_type": "markdown",
   "metadata": {},
   "source": [
    "I keep the very basic framework of code in github. When sharing with collaborators, I explain I work in my /project/ directory. The framework can be immidiately cloned from my github page as below. "
   ]
  },
  {
   "cell_type": "code",
   "execution_count": null,
   "metadata": {},
   "outputs": [],
   "source": [
    "cd /expanse/lustre/projects/sio134/gmooers/\n",
    "git clone https://github.com/gmooers96/CBRAIN-CAM.git"
   ]
  },
  {
   "cell_type": "markdown",
   "metadata": {},
   "source": [
    "The preprocessed data to train the VAE can all be found at:"
   ]
  },
  {
   "cell_type": "code",
   "execution_count": null,
   "metadata": {},
   "outputs": [],
   "source": []
  },
  {
   "cell_type": "markdown",
   "metadata": {},
   "source": [
    "Go to the config file and change all paths in the config file you care about to:"
   ]
  },
  {
   "cell_type": "code",
   "execution_count": null,
   "metadata": {},
   "outputs": [],
   "source": [
    "cd model_config\n",
    "#new file path\n",
    "#Preprocessed_Data/Centered_50_50/Space_Time_W_Training.npy\n",
    "#ect....\n",
    "    \"data\": {\n",
    "        \"training_data_path\": \"Preprocessed_Data/Centered_50_50/Space_Time_W_Training.npy\",\n",
    "        \"test_data_path\": \"Preprocessed_Data/Centered_50_50/Space_Time_W_Test.npy\",\n",
    "        \"train_labels\": \"/fast/gmooers/Preprocessed_Data/Centered_50_50/Y_Train.npy\",\n",
    "        \"test_labels\": \"/fast/gmooers/Preprocessed_Data/Centered_50_50/Improved_Y_Test.npy\",\n",
    "        \"max_scalar\": \"Preprocessed_Data/Centered_50_50/Space_Time_Max_Scalar.npy\",\n",
    "        \"min_scalar\": \"Preprocessed_Data/Centered_50_50/Space_Time_Min_Scalar.npy\"\n",
    "    },"
   ]
  },
  {
   "cell_type": "markdown",
   "metadata": {},
   "source": [
    "I would call in an interactive gpu node and test the script to see if it runs.  If run is successful go to your Bash_Scripts/ Directory and make a bash script called {your bash scripts name here}.sh.  I believe your script should be the same as mine but just swap out your email for mine so you get a notification when it finishes."
   ]
  },
  {
   "cell_type": "code",
   "execution_count": null,
   "metadata": {},
   "outputs": [],
   "source": [
    "#!/bin/bash\n",
    "\n",
    "#SBATCH -A sio134\n",
    "#SBATCH --job-name=\"conv_vae\"\n",
    "#SBATCH --output=\"conv_vae.%j.%N.out\"\n",
    "#SBATCH --partition=gpu\n",
    "#SBATCH --nodes=1\n",
    "#SBATCH --gpus=4\n",
    "#SBATCH --ntasks-per-node=40\n",
    "#SBATCH --export=ALL\n",
    "#SBATCH -t 24:00:00\n",
    "#SBATCH --mem=374G\n",
    "#SBATCH --no-requeue\n",
    "#SBATCH --mail-user={your email}@uci.edu\n",
    "#SBATCH --mail-type=end    # email me when the job finishes\n",
    "\n",
    "module purge\n",
    "module load gpu\n",
    "module load slurm\n",
    "module load openmpi\n",
    "module load amber\n",
    "\n",
    "cd ../\n",
    "source activate {name of your gpu environment}\n",
    "python3 train_fully_conv.py --id 83"
   ]
  },
  {
   "cell_type": "markdown",
   "metadata": {},
   "source": [
    "At this point you should be able to submit a full job to train.  Feel free to submit multiple jobs if you are interested:"
   ]
  },
  {
   "cell_type": "code",
   "execution_count": null,
   "metadata": {},
   "outputs": [],
   "source": [
    "sbatch {your bash scripts name here}.sh"
   ]
  },
  {
   "cell_type": "markdown",
   "metadata": {},
   "source": [
    "Mine takes ~37 to ~40 seconds per epoch to train.  Let me know if yours is significantly faster or slower. You can monitor your job and finds its job number by:"
   ]
  },
  {
   "cell_type": "code",
   "execution_count": null,
   "metadata": {},
   "outputs": [],
   "source": [
    "squeue -u {your username}"
   ]
  },
  {
   "cell_type": "markdown",
   "metadata": {},
   "source": [
    "If you realize you made a mistake you can cancel a job by:"
   ]
  },
  {
   "cell_type": "code",
   "execution_count": null,
   "metadata": {},
   "outputs": [],
   "source": [
    "scancel {your job number}"
   ]
  },
  {
   "cell_type": "markdown",
   "metadata": {},
   "source": [
    "If everything is working at point I would go back to your home directory and remove the git clone there to clear up space (can only have a max of 100G in the home directory)"
   ]
  },
  {
   "cell_type": "code",
   "execution_count": null,
   "metadata": {},
   "outputs": [],
   "source": [
    "cd /home/{$USER}\n",
    "#rm -r CBRAIN-CAM/"
   ]
  },
  {
   "cell_type": "markdown",
   "metadata": {},
   "source": [
    "The last thing I would reccomend doing is editing your bashrm script so you can move around Expanse easier (e.g. make shortcuts of commands you will make often). You can access it by:"
   ]
  },
  {
   "cell_type": "code",
   "execution_count": null,
   "metadata": {},
   "outputs": [],
   "source": [
    "vi $HOME/.bashrc"
   ]
  },
  {
   "cell_type": "markdown",
   "metadata": {},
   "source": [
    "on the vim screen, under the lines:"
   ]
  },
  {
   "cell_type": "code",
   "execution_count": null,
   "metadata": {},
   "outputs": [],
   "source": [
    "# User specific aliases and functions\n",
    "module load gcc\n",
    "module load slurm"
   ]
  },
  {
   "cell_type": "markdown",
   "metadata": {},
   "source": [
    "You can add in any shortcut you want. Edit in vim by pressing {i}, end your edits by hitting {the escape key}, save your changes by \":wq\" or \":q\" if you want to quit and not make changes. Below are the ones I think are helpful to add:"
   ]
  },
  {
   "cell_type": "code",
   "execution_count": null,
   "metadata": {},
   "outputs": [],
   "source": [
    "alias PROJECT=\"cd /expanse/lustre/projects/sio134/gmooers/CBRAIN-CAM/MAPS/\"\n",
    "alias TEMP=\"cd /expanse/lustre/scratch/gmooers/temp_project/\"\n",
    "alias QUE=\"squeue -u gmooers\"\n",
    "alias GPUENV=\"conda activate GPU2\"\n",
    "alias CPUENV=\"conda activate CPU\"\n",
    "alias SMALL_GPU=\"srun --partition=gpu-debug  --pty --account=sio134 --nodes=1 --ntasks-per-node=40  --mem=374G --gpus=4  -t 00:30:00 --wait=0 --export=ALL /bin/bash\"\n",
    "alias SMALL_CPU=\"srun --partition=debug  --pty --account=sio134 --nodes=1 --ntasks-per-node=128 --mem=248G -t 00:30:00 --wait=0 --export=ALL /bin/bash\"\n",
    "alias CPU_JOB=\"srun --partition=compute  --pty --account=sio134 --nodes=2 --ntasks-per-node=128  --mem=248G -t 03:00:00 --wait=0 --export=ALL /bin/bash\"\n",
    "alias GPU_JOB=\"srun --partition=gpu  --pty --account=sio134 --nodes=1 --ntasks-per-node=40  --mem=374G --gpus=4  -t 03:00:00 --wait=0 --export=ALL /bin/bash\"\n",
    "alias S=\"screen\"\n",
    "alias SR=\"screen -r\"\n",
    "alias JN=\"jupyter notebook --port=8888 --no-browser\"\n",
    "alias J=\"jupyter notebook --port=\"\n",
    "alias N=\" --no-browser\"\n",
    "alias P=\"module purge\"\n",
    "alias DE=\"conda deactivate\"\n",
    "alias BASH=\"vi $HOME/.bashrc\""
   ]
  },
  {
   "cell_type": "markdown",
   "metadata": {},
   "source": [
    "to see a list of oyu alias's, just type \"alias\" in the command line"
   ]
  },
  {
   "cell_type": "code",
   "execution_count": null,
   "metadata": {},
   "outputs": [],
   "source": []
  }
 ],
 "metadata": {
  "kernelspec": {
   "display_name": "Python 3",
   "language": "python",
   "name": "python3"
  },
  "language_info": {
   "codemirror_mode": {
    "name": "ipython",
    "version": 3
   },
   "file_extension": ".py",
   "mimetype": "text/x-python",
   "name": "python",
   "nbconvert_exporter": "python",
   "pygments_lexer": "ipython3",
   "version": "3.7.3"
  }
 },
 "nbformat": 4,
 "nbformat_minor": 4
}
